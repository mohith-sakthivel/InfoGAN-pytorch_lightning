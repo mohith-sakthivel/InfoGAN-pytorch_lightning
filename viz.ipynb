{
 "cells": [
  {
   "cell_type": "code",
   "execution_count": 64,
   "metadata": {},
   "outputs": [],
   "source": [
    "import os\n",
    "import yaml\n",
    "import numpy as np\n",
    "import matplotlib.pyplot as plt\n",
    "from PIL import Image\n",
    "\n",
    "import torch\n",
    "import torch.nn.functional as F\n",
    "from torchvision.utils import make_grid, save_image\n",
    "\n",
    "from infogan.infogan_module import InfoGAN"
   ]
  },
  {
   "cell_type": "code",
   "execution_count": 65,
   "metadata": {},
   "outputs": [],
   "source": [
    "VERSION = 0\n",
    "DIST_TYPE = 'gaussian'\n",
    "GRP_NO = 0\n",
    "MAKE_GRID = False"
   ]
  },
  {
   "cell_type": "code",
   "execution_count": 66,
   "metadata": {},
   "outputs": [],
   "source": [
    "def interpolate_dim(gan, grp_type='gaussian', grp_no=0, std_range=4, num_samples=5, num_interops=11):\n",
    "    gan.eval()\n",
    "    device = gan.device\n",
    "    z = gan.sample_noise(num_samples)\n",
    "    c = gan.sample_code(num_samples)\n",
    "    if grp_type == 'gaussian':\n",
    "        z = z.repeat((num_interops, 1, 1))\n",
    "        c = c.repeat((num_interops, 1, 1))\n",
    "        prev_idx = sum(gan.hparams.categ_code_dims)\n",
    "        for i, std in enumerate(np.linspace(-std_range, std_range, num_interops)):\n",
    "            c[i, :, prev_idx + grp_no] = std\n",
    "    elif grp_type == 'categorical':\n",
    "        z = z.repeat((gan.hparams.categ_code_dims[grp_no], 1, 1))\n",
    "        c = c.repeat((gan.hparams.categ_code_dims[grp_no], 1, 1))\n",
    "        prev_idx = sum(gan.hparams.categ_code_dims[:grp_no])\n",
    "        for i in range(gan.hparams.categ_code_dims[grp_no]):\n",
    "            dist_dim = gan.hparams.categ_code_dims[grp_no]\n",
    "            c[i, :, prev_idx:prev_idx+dist_dim] = F.one_hot(torch.tensor(i, device=device), dist_dim)\n",
    "    else:\n",
    "        raise ValueError\n",
    "    with torch.no_grad():\n",
    "        imgs = gan(z.reshape(-1, z.shape[-1]), c.reshape(-1, c.shape[-1]))\n",
    "    imgs = imgs.reshape(-1, num_samples, *imgs.shape[-3:])\n",
    "    imgs = [make_grid(img, nrow=num_samples, padding=2,\n",
    "                      normalize=True, norm_range=(0, 1)).cpu() for img in imgs]\n",
    "    return imgs"
   ]
  },
  {
   "cell_type": "code",
   "execution_count": 67,
   "metadata": {},
   "outputs": [],
   "source": [
    "model_dir = f'lightning_logs/version_{VERSION}'\n",
    "\n",
    "with open(model_dir + '/hparams.yaml') as f:\n",
    "    hparams = yaml.safe_load(f)\n",
    "\n",
    "files = os.listdir(model_dir + '/checkpoints')\n",
    "files.sort()\n",
    "file = files[0]\n",
    "\n",
    "model = InfoGAN.load_from_checkpoint(model_dir + '/checkpoints/' + file)"
   ]
  },
  {
   "cell_type": "code",
   "execution_count": 68,
   "metadata": {},
   "outputs": [],
   "source": [
    "viz_imgs = interpolate_dim(model, DIST_TYPE, GRP_NO)"
   ]
  },
  {
   "cell_type": "code",
   "execution_count": 69,
   "metadata": {},
   "outputs": [],
   "source": [
    "viz_imgs = interpolate_dim(model, DIST_TYPE, GRP_NO)\n",
    "\n",
    "if MAKE_GRID:\n",
    "    save_image(viz_imgs, f\"media/version_{VERSION}_{DIST_TYPE}_{GRP_NO}.jpg\", nrow=1)\n",
    "else:\n",
    "    viz_imgs = [img.numpy().transpose(1, 2, 0) for img in viz_imgs]\n",
    "    viz_imgs = [(255 * img).astype(np.uint8) for img in viz_imgs]\n",
    "    viz_imgs = [Image.fromarray(img) for img in viz_imgs]\n",
    "    viz_imgs[0].save(f\"media/version_{VERSION}_{DIST_TYPE}_{GRP_NO}.gif\", format=\"GIF\", \n",
    "                     append_images=viz_imgs[1:], save_all=True, duration=len(viz_imgs) * 50, loop=0)"
   ]
  }
 ],
 "metadata": {
  "interpreter": {
   "hash": "0a5a9a84e3fe9293669fef198ec4e91609221dcf48f8809fc053e033236ee8e1"
  },
  "kernelspec": {
   "display_name": "Python 3.8.11 64-bit ('infogan_pl': conda)",
   "language": "python",
   "name": "python3"
  },
  "language_info": {
   "codemirror_mode": {
    "name": "ipython",
    "version": 3
   },
   "file_extension": ".py",
   "mimetype": "text/x-python",
   "name": "python",
   "nbconvert_exporter": "python",
   "pygments_lexer": "ipython3",
   "version": "3.8.11"
  },
  "orig_nbformat": 4
 },
 "nbformat": 4,
 "nbformat_minor": 2
}
